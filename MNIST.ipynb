{
  "nbformat": 4,
  "nbformat_minor": 0,
  "metadata": {
    "colab": {
      "name": "MNIST.ipynb",
      "provenance": [],
      "collapsed_sections": []
    },
    "kernelspec": {
      "name": "python3",
      "display_name": "Python 3"
    },
    "accelerator": "GPU"
  },
  "cells": [
    {
      "cell_type": "code",
      "metadata": {
        "id": "ESB1tWp3-8ln",
        "colab_type": "code",
        "colab": {}
      },
      "source": [
        "import torch\n",
        "import torch.nn as nn\n",
        "from torch.autograd import Variable\n",
        "import torch.optim as optim\n",
        "import torch.nn.functional as F\n",
        "\n",
        "import torchvision.datasets as dsets\n",
        "import torchvision.transforms as transforms\n",
        "\n",
        "import matplotlib.pyplot as plt\n",
        "import numpy as np\n",
        "from tqdm import tqdm\n",
        "%matplotlib inline"
      ],
      "execution_count": 2,
      "outputs": []
    },
    {
      "cell_type": "code",
      "metadata": {
        "id": "0AyMKD9KjZid",
        "colab_type": "code",
        "colab": {
          "base_uri": "https://localhost:8080/",
          "height": 34
        },
        "outputId": "d9a3f69f-701f-403d-ffbd-c615f0aa953a"
      },
      "source": [
        "# check GPU \n",
        "torch.cuda.is_available()"
      ],
      "execution_count": 41,
      "outputs": [
        {
          "output_type": "execute_result",
          "data": {
            "text/plain": [
              "True"
            ]
          },
          "metadata": {
            "tags": []
          },
          "execution_count": 41
        }
      ]
    },
    {
      "cell_type": "code",
      "metadata": {
        "id": "v9dLQWU5jfZJ",
        "colab_type": "code",
        "colab": {
          "base_uri": "https://localhost:8080/",
          "height": 34
        },
        "outputId": "684ca17b-e3c4-4585-9922-565b28fc7140"
      },
      "source": [
        "device = torch.device(\"cuda\" if torch.cuda.is_available() else \"cpu\")\n",
        "device"
      ],
      "execution_count": 65,
      "outputs": [
        {
          "output_type": "execute_result",
          "data": {
            "text/plain": [
              "device(type='cuda')"
            ]
          },
          "metadata": {
            "tags": []
          },
          "execution_count": 65
        }
      ]
    },
    {
      "cell_type": "code",
      "metadata": {
        "id": "1oZlcGqQ_jAc",
        "colab_type": "code",
        "colab": {}
      },
      "source": [
        "# 訓練用 超參數\n",
        "IMAGE_SIZE = 28\n",
        "NUM__CLASSES = 10\n",
        "EPOCHS = 20\n",
        "BATCH_SIZE = 128"
      ],
      "execution_count": 3,
      "outputs": []
    },
    {
      "cell_type": "code",
      "metadata": {
        "id": "wbPCgI6g_u6v",
        "colab_type": "code",
        "colab": {}
      },
      "source": [
        "# 下載資料集\n",
        "train_dataset = dsets.MNIST(root=r'./',\n",
        "                            train=True,\n",
        "                            # 載入時候 直接影響轉tensor\n",
        "                            transform=transforms.ToTensor(),\n",
        "                            download=True\n",
        "                            )\n",
        "                            \n",
        "test_dataset = dsets.MNIST(root='r./',\n",
        "                           train=False,\n",
        "                           transform=transforms.ToTensor(),\n",
        "                           download=True\n",
        "                           )"
      ],
      "execution_count": 64,
      "outputs": []
    },
    {
      "cell_type": "code",
      "metadata": {
        "id": "3-JKnnKjAH8W",
        "colab_type": "code",
        "colab": {}
      },
      "source": [
        "# DATALOADER(資料載入器) --> 自動一批一批輸出資料\n",
        "train_loader = torch.utils.data.DataLoader(dataset=train_dataset,\n",
        "                                           batch_size=BATCH_SIZE,\n",
        "                                           shuffle=True\n",
        "                                            )"
      ],
      "execution_count": 5,
      "outputs": []
    },
    {
      "cell_type": "code",
      "metadata": {
        "id": "Kd8ttS8aAI3L",
        "colab_type": "code",
        "colab": {}
      },
      "source": [
        "indicies = range(len(test_dataset))\n",
        "indicies_val = indicies[:5000]\n",
        "indicies_test = indicies[5000:]"
      ],
      "execution_count": 6,
      "outputs": []
    },
    {
      "cell_type": "code",
      "metadata": {
        "id": "yTMwCX5SCED2",
        "colab_type": "code",
        "colab": {}
      },
      "source": [
        "# SubsetRandomSampler 取樣器 --> 每批取資料集中樣本的方法\n",
        "#                           ==> 完全隨機取出\n",
        "sampler_val = torch.utils.data.SubsetRandomSampler(indicies_val)\n",
        "sampler_test = torch.utils.data.SubsetRandomSampler(indicies_test)"
      ],
      "execution_count": 7,
      "outputs": []
    },
    {
      "cell_type": "code",
      "metadata": {
        "id": "w_-LLLTSCqYn",
        "colab_type": "code",
        "colab": {}
      },
      "source": [
        "# 將上面的取樣器定義 載入 載入器\n",
        "val_loader = torch.utils.data.DataLoader(dataset=test_dataset,\n",
        "                                         batch_size=BATCH_SIZE,\n",
        "                                         shuffle=False,\n",
        "                                         sampler=sampler_val\n",
        "                                         )\n",
        "test_loader = torch.utils.data.DataLoader(dataset=test_dataset,\n",
        "                                         batch_size=BATCH_SIZE,\n",
        "                                         shuffle=False,\n",
        "                                         sampler=sampler_test\n",
        "                                         )"
      ],
      "execution_count": 62,
      "outputs": []
    },
    {
      "cell_type": "code",
      "metadata": {
        "id": "i7JBsFWAHsIO",
        "colab_type": "code",
        "colab": {
          "base_uri": "https://localhost:8080/",
          "height": 282
        },
        "outputId": "4da6002f-7ba2-4479-e294-b1fb4594375d"
      },
      "source": [
        "idx = 100\n",
        "# 隨便取一張圖片 \n",
        "# tensor 轉 numpy\n",
        "mute_img = train_dataset[idx][0]\n",
        "# 方法1 tensor.view 轉 大小\n",
        "plt.imshow(mute_img.view(28,28))"
      ],
      "execution_count": 9,
      "outputs": [
        {
          "output_type": "execute_result",
          "data": {
            "text/plain": [
              "<matplotlib.image.AxesImage at 0x7fd2d2d165f8>"
            ]
          },
          "metadata": {
            "tags": []
          },
          "execution_count": 9
        },
        {
          "output_type": "display_data",
          "data": {
            "image/png": "[encoded data removed]",
            "text/plain": [
              "<Figure size 432x288 with 1 Axes>"
            ]
          },
          "metadata": {
            "tags": [],
            "needs_background": "light"
          }
        }
      ]
    },
    {
      "cell_type": "code",
      "metadata": {
        "id": "0bdG4ja7H2L7",
        "colab_type": "code",
        "colab": {
          "base_uri": "https://localhost:8080/",
          "height": 282
        },
        "outputId": "6ec6f224-d46b-4a56-d689-7d19d986c48d"
      },
      "source": [
        "# 方法2 \n",
        "plt.imshow(mute_img.numpy()[0,...])"
      ],
      "execution_count": 10,
      "outputs": [
        {
          "output_type": "execute_result",
          "data": {
            "text/plain": [
              "<matplotlib.image.AxesImage at 0x7fd2d286ab70>"
            ]
          },
          "metadata": {
            "tags": []
          },
          "execution_count": 10
        },
        {
          "output_type": "display_data",
          "data": {
            "image/png": "[encoded data removed]",
            "text/plain": [
              "<Figure size 432x288 with 1 Axes>"
            ]
          },
          "metadata": {
            "tags": [],
            "needs_background": "light"
          }
        }
      ]
    },
    {
      "cell_type": "markdown",
      "metadata": {
        "id": "8fTu8OpAI-Ap",
        "colab_type": "text"
      },
      "source": [
        "**建立神經網路**\n",
        "\n",
        "---\n",
        "\n",
        "\n",
        "\n",
        "---\n",
        "\n"
      ]
    },
    {
      "cell_type": "code",
      "metadata": {
        "id": "r7vl72laI9Zh",
        "colab_type": "code",
        "colab": {
          "base_uri": "https://localhost:8080/",
          "height": 136
        },
        "outputId": "c2806d5a-a1de-4d22-e489-6f86e9b770fc"
      },
      "source": [
        "# 定義神經網路, 4, 8 為人為指定的兩個捲基層的厚度 (feature map 的數量)\n",
        "DEPTH = [4, 8]\n",
        "# 訓練用 超參數\n",
        "IMAGE_SIZE = 28\n",
        "NUM__CLASSES = 10\n",
        "EPOCHS = 10\n",
        "BATCH_SIZE = 128\n",
        "\n",
        "class ConvNet(nn.Module):\n",
        "    def __init__(self):\n",
        "        super(ConvNet, self).__init__()\n",
        "\n",
        "        self.conv1 = nn.Conv2d(1 ,4 ,5 ,padding=2)\n",
        "        self.pool = nn.MaxPool2d(2, 2)\n",
        "\n",
        "        self.conv2 = nn.Conv2d(DEPTH[0], DEPTH[1], 5, padding=2)\n",
        "        self.fc1 = nn.Linear(IMAGE_SIZE//4 * IMAGE_SIZE//4 * DEPTH[1], 512)\n",
        "        self.fc2 = nn.Linear(512, NUM__CLASSES)\n",
        "\n",
        "    def forward(self, x):\n",
        "\n",
        "        x = self.conv1(x)\n",
        "        x = F.relu(x)\n",
        "        x = self.pool(x)\n",
        "\n",
        "        x = self.conv2(x)\n",
        "        x = F.relu(x)\n",
        "        x = self.pool(x)\n",
        "\n",
        "        x = x.view(-1, IMAGE_SIZE//4 * IMAGE_SIZE//4 * DEPTH[1])\n",
        "        \n",
        "        x = F.relu(self.fc1(x))\n",
        "        x = F.dropout(x, training=self.training)\n",
        "        \n",
        "        x = self.fc2(x)\n",
        "        x = F.log_softmax(x, dim=1)\n",
        "        \n",
        "        return x \n",
        "    \n",
        "    def retrieve_features(self, x):\n",
        "\n",
        "        feature_map1 = F.relu(self.conv1(x))\n",
        "        x = self.pool(feature_map1)\n",
        "\n",
        "        feature_map2 = F.relu(self.conv1(x))\n",
        "\n",
        "        return (feature_map1, feature_map2)\n",
        "\n",
        "def rightness(output, target):\n",
        "    preds = output.data.max(dim=1, keepdim=True)[1]\n",
        "    return preds.eq(target.data.view_as(preds)).cuda().sum(), len(target)\n",
        "\n",
        "net = ConvNet().cuda()\n",
        "net"
      ],
      "execution_count": 91,
      "outputs": [
        {
          "output_type": "execute_result",
          "data": {
            "text/plain": [
              "ConvNet(\n",
              "  (conv1): Conv2d(1, 4, kernel_size=(5, 5), stride=(1, 1), padding=(2, 2))\n",
              "  (pool): MaxPool2d(kernel_size=2, stride=2, padding=0, dilation=1, ceil_mode=False)\n",
              "  (conv2): Conv2d(4, 8, kernel_size=(5, 5), stride=(1, 1), padding=(2, 2))\n",
              "  (fc1): Linear(in_features=392, out_features=512, bias=True)\n",
              "  (fc2): Linear(in_features=512, out_features=10, bias=True)\n",
              ")"
            ]
          },
          "metadata": {
            "tags": []
          },
          "execution_count": 91
        }
      ]
    },
    {
      "cell_type": "code",
      "metadata": {
        "id": "Jd_T5YvbNg-V",
        "colab_type": "code",
        "colab": {
          "base_uri": "https://localhost:8080/",
          "height": 867
        },
        "outputId": "1c7c55b6-49d3-43a5-c887-2f52ab3385d8"
      },
      "source": [
        "# loss function and optimizer \n",
        "optimizer = optim.SGD(net.parameters(), lr=1e-2, momentum=0.9)\n",
        "loss = nn.CrossEntropyLoss()\n",
        "\n",
        "# records \n",
        "record = list() # a container of accuracies, losses\n",
        "weights = list() # a container of weights\n",
        "\n",
        "# start training\n",
        "for epoch in range(EPOCHS):\n",
        "    train_rights = list()\n",
        "\n",
        "    for batch_idx, (data, target) in enumerate(train_loader):\n",
        "        data, target = Variable(data), Variable(target)\n",
        "        data = data.cuda()\n",
        "        target = target.cuda()\n",
        "        \n",
        "        net.train()\n",
        "\n",
        "        output = net(data.cuda())\n",
        "        \n",
        "        this_loss = loss(output, target)\n",
        "        # 清空梯度\n",
        "        optimizer.zero_grad()\n",
        "        # 反向傳播\n",
        "        this_loss.backward()\n",
        "        # 一步隨機梯度下降 演算法\n",
        "        optimizer.step()\n",
        "        right = rightness(output, target)        \n",
        "\n",
        "        train_rights.append(right)\n",
        "        \n",
        "        if batch_idx%100==0:\n",
        "            net.eval()\n",
        "            \n",
        "            val_rights = list()\n",
        "\n",
        "            for (data, target) in val_loader:\n",
        "                data, target = Variable(data), Variable(target)\n",
        "                data = data.cuda()\n",
        "                target = target.cuda()\n",
        "                output = net(data.cuda())\n",
        "\n",
        "                right = rightness(output, target)\n",
        "                #print(right[0].item())\n",
        "                val_rights.append(right)\n",
        "                \n",
        "            train_r = (\n",
        "                sum([tup[0].item() for tup in train_rights]), \n",
        "                sum([tup[1] for tup in train_rights])\n",
        "            )\n",
        "            \n",
        "            \n",
        "\n",
        "            val_r =(\n",
        "                sum([tup[0] for tup in val_rights]), \n",
        "                sum([tup[1] for tup in val_rights])\n",
        "            )\n",
        "            \n",
        "            #print(this_loss.data.item())\n",
        "            acc = float(100. * train_r[0]/train_r[1])\n",
        "            los_acc =float(100. * val_r[0]/val_r[1])\n",
        "            print(f\"epoch: {epoch+1} [{(batch_idx*len(data))}/{len(train_loader.dataset)}  ({(round(100.*batch_idx/len(train_loader), 2))}%)]\\t Loss: {round(this_loss.item(), 5)}\\tacc: {round(acc,5)}%\\tloss_acc: {round(los_acc,5)}%\")\n",
        "            \n",
        "            record.append((100 - 100. * train_r[0]/train_r[1], 100 - 100. * val_r[0]/val_r[1]))\n",
        "            weights.append([net.conv1.weight.data.clone(), \n",
        "                            net.conv1.bias.data.clone(),\n",
        "                            net.conv2.weight.data.clone(), \n",
        "                            net.conv2.bias.data.clone()                            \n",
        "                            ])\n",
        "\n",
        "\n",
        "\n"
      ],
      "execution_count": 92,
      "outputs": [
        {
          "output_type": "stream",
          "text": [
            "epoch: 1 [0/60000  (0.0%)]\t Loss: 2.30119\tacc: 7.8125%\tloss_acc: 10.6%\n",
            "epoch: 1 [800/60000  (21.32%)]\t Loss: 2.25798\tacc: 14.38738%\tloss_acc: 41.28%\n",
            "epoch: 1 [1600/60000  (42.64%)]\t Loss: 0.37528\tacc: 37.78762%\tloss_acc: 86.8%\n",
            "epoch: 1 [2400/60000  (63.97%)]\t Loss: 0.2191\tacc: 54.91331%\tloss_acc: 92.57999%\n",
            "epoch: 1 [3200/60000  (85.29%)]\t Loss: 0.24889\tacc: 64.45215%\tloss_acc: 94.39999%\n",
            "epoch: 2 [0/60000  (0.0%)]\t Loss: 0.06333\tacc: 96.875%\tloss_acc: 94.39999%\n",
            "epoch: 2 [800/60000  (21.32%)]\t Loss: 0.10569\tacc: 94.7401%\tloss_acc: 95.16%\n",
            "epoch: 2 [1600/60000  (42.64%)]\t Loss: 0.1613\tacc: 95.11427%\tloss_acc: 95.98%\n",
            "epoch: 2 [2400/60000  (63.97%)]\t Loss: 0.21801\tacc: 95.21647%\tloss_acc: 96.5%\n",
            "epoch: 2 [3200/60000  (85.29%)]\t Loss: 0.10119\tacc: 95.48589%\tloss_acc: 96.84%\n",
            "epoch: 3 [0/60000  (0.0%)]\t Loss: 0.18573\tacc: 92.96875%\tloss_acc: 96.86%\n",
            "epoch: 3 [800/60000  (21.32%)]\t Loss: 0.06212\tacc: 96.20978%\tloss_acc: 97.04%\n",
            "epoch: 3 [1600/60000  (42.64%)]\t Loss: 0.07567\tacc: 96.5796%\tloss_acc: 96.68%\n",
            "epoch: 3 [2400/60000  (63.97%)]\t Loss: 0.0646\tacc: 96.71667%\tloss_acc: 97.52%\n",
            "epoch: 3 [3200/60000  (85.29%)]\t Loss: 0.07253\tacc: 96.81655%\tloss_acc: 97.18%\n",
            "epoch: 4 [0/60000  (0.0%)]\t Loss: 0.12674\tacc: 95.3125%\tloss_acc: 97.32%\n",
            "epoch: 4 [800/60000  (21.32%)]\t Loss: 0.04475\tacc: 97.41646%\tloss_acc: 97.25999%\n",
            "epoch: 4 [1600/60000  (42.64%)]\t Loss: 0.18006\tacc: 97.29478%\tloss_acc: 97.24%\n",
            "epoch: 4 [2400/60000  (63.97%)]\t Loss: 0.08224\tacc: 97.29288%\tloss_acc: 97.54%\n",
            "epoch: 4 [3200/60000  (85.29%)]\t Loss: 0.08073\tacc: 97.36986%\tloss_acc: 97.96%\n",
            "epoch: 5 [0/60000  (0.0%)]\t Loss: 0.01932\tacc: 100.0%\tloss_acc: 97.66%\n",
            "epoch: 5 [800/60000  (21.32%)]\t Loss: 0.02077\tacc: 97.48608%\tloss_acc: 97.75999%\n",
            "epoch: 5 [1600/60000  (42.64%)]\t Loss: 0.06868\tacc: 97.53576%\tloss_acc: 97.7%\n",
            "epoch: 5 [2400/60000  (63.97%)]\t Loss: 0.17551\tacc: 97.63029%\tloss_acc: 98.02%\n",
            "epoch: 5 [3200/60000  (85.29%)]\t Loss: 0.08335\tacc: 97.61339%\tloss_acc: 98.02%\n",
            "epoch: 6 [0/60000  (0.0%)]\t Loss: 0.01689\tacc: 100.0%\tloss_acc: 98.06%\n",
            "epoch: 6 [800/60000  (21.32%)]\t Loss: 0.11769\tacc: 98.0198%\tloss_acc: 97.8%\n",
            "epoch: 6 [1600/60000  (42.64%)]\t Loss: 0.09568\tacc: 98.00218%\tloss_acc: 97.93999%\n",
            "epoch: 6 [2400/60000  (63.97%)]\t Loss: 0.03007\tacc: 97.9755%\tloss_acc: 97.89999%\n",
            "epoch: 6 [3200/60000  (85.29%)]\t Loss: 0.06231\tacc: 97.92706%\tloss_acc: 97.82%\n",
            "epoch: 7 [0/60000  (0.0%)]\t Loss: 0.06142\tacc: 98.4375%\tloss_acc: 97.82%\n",
            "epoch: 7 [800/60000  (21.32%)]\t Loss: 0.04149\tacc: 98.25959%\tloss_acc: 98.2%\n",
            "epoch: 7 [1600/60000  (42.64%)]\t Loss: 0.03156\tacc: 98.26648%\tloss_acc: 97.89999%\n",
            "epoch: 7 [2400/60000  (63.97%)]\t Loss: 0.04419\tacc: 98.2636%\tloss_acc: 98.42%\n",
            "epoch: 7 [3200/60000  (85.29%)]\t Loss: 0.04345\tacc: 98.17059%\tloss_acc: 98.28%\n",
            "epoch: 8 [0/60000  (0.0%)]\t Loss: 0.02344\tacc: 99.21875%\tloss_acc: 98.24%\n",
            "epoch: 8 [800/60000  (21.32%)]\t Loss: 0.07778\tacc: 98.08168%\tloss_acc: 98.16%\n",
            "epoch: 8 [1600/60000  (42.64%)]\t Loss: 0.02209\tacc: 98.14599%\tloss_acc: 97.92%\n",
            "epoch: 8 [2400/60000  (63.97%)]\t Loss: 0.03431\tacc: 98.25581%\tloss_acc: 98.06%\n",
            "epoch: 8 [3200/60000  (85.29%)]\t Loss: 0.04951\tacc: 98.28748%\tloss_acc: 98.12%\n",
            "epoch: 9 [0/60000  (0.0%)]\t Loss: 0.04932\tacc: 98.4375%\tloss_acc: 98.2%\n",
            "epoch: 9 [800/60000  (21.32%)]\t Loss: 0.0413\tacc: 98.41429%\tloss_acc: 98.43999%\n",
            "epoch: 9 [1600/60000  (42.64%)]\t Loss: 0.02064\tacc: 98.39475%\tloss_acc: 98.56%\n",
            "epoch: 9 [2400/60000  (63.97%)]\t Loss: 0.05453\tacc: 98.41674%\tloss_acc: 98.43999%\n",
            "epoch: 9 [3200/60000  (85.29%)]\t Loss: 0.0152\tacc: 98.3849%\tloss_acc: 98.52%\n",
            "epoch: 10 [0/60000  (0.0%)]\t Loss: 0.06235\tacc: 97.65625%\tloss_acc: 98.43999%\n",
            "epoch: 10 [800/60000  (21.32%)]\t Loss: 0.05787\tacc: 98.7005%\tloss_acc: 98.06%\n",
            "epoch: 10 [1600/60000  (42.64%)]\t Loss: 0.04389\tacc: 98.58131%\tloss_acc: 98.57999%\n",
            "epoch: 10 [2400/60000  (63.97%)]\t Loss: 0.06422\tacc: 98.53094%\tloss_acc: 98.54%\n",
            "epoch: 10 [3200/60000  (85.29%)]\t Loss: 0.06345\tacc: 98.55829%\tloss_acc: 98.42%\n"
          ],
          "name": "stdout"
        }
      ]
    },
    {
      "cell_type": "code",
      "metadata": {
        "id": "GD2tg2TaQ0qQ",
        "colab_type": "code",
        "colab": {
          "base_uri": "https://localhost:8080/",
          "height": 68
        },
        "outputId": "c4af9448-8e17-4fc6-ff90-9d6c256717d2"
      },
      "source": [
        "# 測試模型\n",
        "net.eval() # 標誌著模型目前為執行時\n",
        "vals = list() # 紀錄準確率所用清單\n",
        "\n",
        "for data, target in test_loader:\n",
        "    data, target = Variable(data, volatile=True), Variable(target)\n",
        "    data = data.cuda()\n",
        "    target = target.cuda()\n",
        "\n",
        "    output = net(data)\n",
        "    val = rightness(output, target)\n",
        "    vals.append(val)\n",
        "\n",
        "# 計算準確率\n",
        "rights = (sum([tup[0] for tup in vals]), sum([tup[1] for tup in vals]))\n",
        "right_rate = 1.0 * rights[0] / rights[1]\n",
        "print(right_rate.item(),'%')"
      ],
      "execution_count": 97,
      "outputs": [
        {
          "output_type": "stream",
          "text": [
            "/usr/local/lib/python3.6/dist-packages/ipykernel_launcher.py:6: UserWarning: volatile was removed and now has no effect. Use `with torch.no_grad():` instead.\n",
            "  \n"
          ],
          "name": "stderr"
        },
        {
          "output_type": "stream",
          "text": [
            "0.995199978351593 %\n"
          ],
          "name": "stdout"
        }
      ]
    },
    {
      "cell_type": "code",
      "metadata": {
        "id": "QK-o3ASZpp3Q",
        "colab_type": "code",
        "colab": {
          "base_uri": "https://localhost:8080/",
          "height": 511
        },
        "outputId": "1afa1beb-da49-4c05-d052-7483affdaebb"
      },
      "source": [
        "plt.figure(figsize=(12, 8))\n",
        "plt.plot(record, linewidth=2)\n",
        "plt.xlabel(\"Steps\", color='w', size=24)\n",
        "plt.ylabel(\"Error Rate\",  color='w', size=24)\n",
        "plt.show()\n"
      ],
      "execution_count": 109,
      "outputs": [
        {
          "output_type": "display_data",
          "data": {
            "image/png": "[encoded data removed]",
            "text/plain": [
              "<Figure size 864x576 with 1 Axes>"
            ]
          },
          "metadata": {
            "tags": [],
            "needs_background": "light"
          }
        }
      ]
    },
    {
      "cell_type": "code",
      "metadata": {
        "id": "HvKLeRywqW_Q",
        "colab_type": "code",
        "colab": {}
      },
      "source": [
        ""
      ],
      "execution_count": null,
      "outputs": []
    }
  ]
}